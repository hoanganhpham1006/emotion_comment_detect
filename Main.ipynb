{
 "cells": [
  {
   "cell_type": "markdown",
   "metadata": {},
   "source": [
    "## Load comments, labels and stop_words"
   ]
  },
  {
   "cell_type": "code",
   "execution_count": 1,
   "metadata": {},
   "outputs": [],
   "source": [
    "import pickle\n",
    "import numpy as np"
   ]
  },
  {
   "cell_type": "code",
   "execution_count": 4,
   "metadata": {},
   "outputs": [],
   "source": [
    "with open('./labels.pkl', 'rb') as f:\n",
    "    labels = pickle.load(f)\n",
    "\n",
    "with open('./comments.pkl', 'rb') as f:\n",
    "    comments = pickle.load(f)\n",
    "\n",
    "stop_list = []    \n",
    "# with open('./stop_words.txt', 'r') as f:\n",
    "#     lines = f.readlines()\n",
    "#     for line in lines:\n",
    "#         line = line.replace('\\n', '')\n",
    "#         stop_list.append(line)"
   ]
  },
  {
   "cell_type": "code",
   "execution_count": 5,
   "metadata": {},
   "outputs": [
    {
     "data": {
      "text/plain": [
       "0"
      ]
     },
     "execution_count": 5,
     "metadata": {},
     "output_type": "execute_result"
    }
   ],
   "source": [
    "len(stop_list)"
   ]
  },
  {
   "cell_type": "code",
   "execution_count": 6,
   "metadata": {},
   "outputs": [
    {
     "data": {
      "text/plain": [
       "(50000, 50000)"
      ]
     },
     "execution_count": 6,
     "metadata": {},
     "output_type": "execute_result"
    }
   ],
   "source": [
    "len(labels), len(comments)"
   ]
  },
  {
   "cell_type": "markdown",
   "metadata": {},
   "source": [
    "## Onehot labels, nparray"
   ]
  },
  {
   "cell_type": "code",
   "execution_count": 7,
   "metadata": {},
   "outputs": [],
   "source": [
    "def one_hot(y, n_classes):\n",
    "    y_res = []\n",
    "    for i in range(len(y)):\n",
    "        input_matrix = np.asarray(y[i])\n",
    "        y_onehot = np.eye(n_classes)[input_matrix]\n",
    "        y_res.append(y_onehot)\n",
    "    return y_res"
   ]
  },
  {
   "cell_type": "code",
   "execution_count": 8,
   "metadata": {},
   "outputs": [],
   "source": [
    "labels = one_hot(labels, 2)"
   ]
  },
  {
   "cell_type": "code",
   "execution_count": 9,
   "metadata": {},
   "outputs": [],
   "source": [
    "labels, comments = np.array(labels), np.array(comments)"
   ]
  },
  {
   "cell_type": "markdown",
   "metadata": {},
   "source": [
    "## Shuffle and split train/test"
   ]
  },
  {
   "cell_type": "code",
   "execution_count": 10,
   "metadata": {},
   "outputs": [
    {
     "name": "stderr",
     "output_type": "stream",
     "text": [
      "/Users/phamhoanganh/virtualenv/python3_custom/lib/python3.5/importlib/_bootstrap.py:222: RuntimeWarning: numpy.dtype size changed, may indicate binary incompatibility. Expected 96, got 88\n",
      "  return f(*args, **kwds)\n",
      "/Users/phamhoanganh/virtualenv/python3_custom/lib/python3.5/importlib/_bootstrap.py:222: RuntimeWarning: numpy.dtype size changed, may indicate binary incompatibility. Expected 96, got 88\n",
      "  return f(*args, **kwds)\n",
      "/Users/phamhoanganh/virtualenv/python3_custom/lib/python3.5/importlib/_bootstrap.py:222: RuntimeWarning: numpy.dtype size changed, may indicate binary incompatibility. Expected 96, got 88\n",
      "  return f(*args, **kwds)\n"
     ]
    }
   ],
   "source": [
    "from sklearn.utils import shuffle\n",
    "\n",
    "labels, comments = shuffle(labels, comments, random_state=1)"
   ]
  },
  {
   "cell_type": "code",
   "execution_count": 11,
   "metadata": {},
   "outputs": [],
   "source": [
    "X_train = comments[0:49000]\n",
    "y_train = labels[0:49000]\n",
    "\n",
    "X_test = comments[49000:50000]\n",
    "y_test = labels[49000:50000]"
   ]
  },
  {
   "cell_type": "markdown",
   "metadata": {},
   "source": [
    "# TFIDF"
   ]
  },
  {
   "cell_type": "code",
   "execution_count": 12,
   "metadata": {},
   "outputs": [
    {
     "name": "stderr",
     "output_type": "stream",
     "text": [
      "/Users/phamhoanganh/virtualenv/python3_custom/lib/python3.5/importlib/_bootstrap.py:222: RuntimeWarning: numpy.dtype size changed, may indicate binary incompatibility. Expected 96, got 88\n",
      "  return f(*args, **kwds)\n"
     ]
    }
   ],
   "source": [
    "from sklearn.feature_extraction.text import TfidfVectorizer, CountVectorizer"
   ]
  },
  {
   "cell_type": "code",
   "execution_count": 43,
   "metadata": {},
   "outputs": [],
   "source": [
    "vectorizer = TfidfVectorizer(max_features=512, stop_words=stop_list)"
   ]
  },
  {
   "cell_type": "code",
   "execution_count": 44,
   "metadata": {},
   "outputs": [],
   "source": [
    "x_train = vectorizer.fit_transform(X_train)"
   ]
  },
  {
   "cell_type": "code",
   "execution_count": 45,
   "metadata": {},
   "outputs": [],
   "source": [
    "x_test = vectorizer.transform(X_test)"
   ]
  },
  {
   "cell_type": "code",
   "execution_count": null,
   "metadata": {
    "scrolled": true
   },
   "outputs": [],
   "source": [
    "words = vectorizer.get_feature_names()\n",
    "words"
   ]
  },
  {
   "cell_type": "code",
   "execution_count": 34,
   "metadata": {},
   "outputs": [],
   "source": [
    "# with open(\"stop_words.txt\", \"a+\") as f:\n",
    "#     for word in words:\n",
    "#         f.write(word + '\\n')\n",
    "# f.close()"
   ]
  },
  {
   "cell_type": "code",
   "execution_count": 47,
   "metadata": {},
   "outputs": [
    {
     "data": {
      "text/plain": [
       "(1, 512)"
      ]
     },
     "execution_count": 47,
     "metadata": {},
     "output_type": "execute_result"
    }
   ],
   "source": [
    "x_train[0].shape"
   ]
  },
  {
   "cell_type": "code",
   "execution_count": 78,
   "metadata": {},
   "outputs": [],
   "source": [
    "with open('vectorizer.pkl', 'wb') as f:\n",
    "    pickle.dump(vectorizer, f)"
   ]
  },
  {
   "cell_type": "markdown",
   "metadata": {},
   "source": [
    "## Training Deeplearning"
   ]
  },
  {
   "cell_type": "code",
   "execution_count": 37,
   "metadata": {},
   "outputs": [],
   "source": [
    "from keras.models import Sequential\n",
    "from keras import backend as K\n",
    "from keras.layers import Dense, Conv2D, MaxPooling2D, Dropout, Flatten, BatchNormalization, ELU, ZeroPadding2D, Reshape, Permute\n",
    "from keras.callbacks import ModelCheckpoint\n",
    "from keras.optimizers import Adam\n",
    "import keras\n",
    "from keras.layers.recurrent import GRU"
   ]
  },
  {
   "cell_type": "code",
   "execution_count": 48,
   "metadata": {},
   "outputs": [],
   "source": [
    "input_shape = (512, )\n",
    "opt = Adam(lr = 1e-4)\n",
    "\n",
    "batch_size = 128\n",
    "nb_epochs = 20"
   ]
  },
  {
   "cell_type": "code",
   "execution_count": 40,
   "metadata": {},
   "outputs": [
    {
     "name": "stdout",
     "output_type": "stream",
     "text": [
      "Build CNN model ...\n"
     ]
    }
   ],
   "source": [
    "print('Build CNN model ...')\n",
    "\n",
    "model = Sequential()\n",
    "model.add(Dense(128, input_shape=input_shape))\n",
    "model.add(Dropout(0.2))\n",
    "model.add(Dense(units=64))\n",
    "model.add(Dropout(0.2))\n",
    "model.add(Dense(units=16))\n",
    "model.add(Dropout(0.5))\n",
    "model.add(Dense(units=2, activation='softmax'))"
   ]
  },
  {
   "cell_type": "code",
   "execution_count": 41,
   "metadata": {},
   "outputs": [
    {
     "name": "stdout",
     "output_type": "stream",
     "text": [
      "Compiling ...\n",
      "_________________________________________________________________\n",
      "Layer (type)                 Output Shape              Param #   \n",
      "=================================================================\n",
      "dense_5 (Dense)              (None, 128)               32896     \n",
      "_________________________________________________________________\n",
      "dropout_4 (Dropout)          (None, 128)               0         \n",
      "_________________________________________________________________\n",
      "dense_6 (Dense)              (None, 64)                8256      \n",
      "_________________________________________________________________\n",
      "dropout_5 (Dropout)          (None, 64)                0         \n",
      "_________________________________________________________________\n",
      "dense_7 (Dense)              (None, 16)                1040      \n",
      "_________________________________________________________________\n",
      "dropout_6 (Dropout)          (None, 16)                0         \n",
      "_________________________________________________________________\n",
      "dense_8 (Dense)              (None, 2)                 34        \n",
      "=================================================================\n",
      "Total params: 42,226\n",
      "Trainable params: 42,226\n",
      "Non-trainable params: 0\n",
      "_________________________________________________________________\n"
     ]
    }
   ],
   "source": [
    "print(\"Compiling ...\")\n",
    "model.compile(loss='binary_crossentropy', optimizer=opt, metrics=['accuracy'])\n",
    "model.summary()"
   ]
  },
  {
   "cell_type": "code",
   "execution_count": 42,
   "metadata": {},
   "outputs": [
    {
     "name": "stdout",
     "output_type": "stream",
     "text": [
      "Training ...\n",
      "Train on 49000 samples, validate on 1000 samples\n",
      "Epoch 1/20\n",
      "49000/49000 [==============================] - 2s 33us/step - loss: 0.5737 - acc: 0.7156 - val_loss: 0.4155 - val_acc: 0.8280\n",
      "Epoch 2/20\n",
      "49000/49000 [==============================] - 1s 22us/step - loss: 0.4223 - acc: 0.8230 - val_loss: 0.3538 - val_acc: 0.8450\n",
      "Epoch 3/20\n",
      "49000/49000 [==============================] - 1s 22us/step - loss: 0.3984 - acc: 0.8334 - val_loss: 0.3459 - val_acc: 0.8490\n",
      "Epoch 4/20\n",
      "49000/49000 [==============================] - 1s 21us/step - loss: 0.3921 - acc: 0.8346 - val_loss: 0.3460 - val_acc: 0.8450\n",
      "Epoch 5/20\n",
      "49000/49000 [==============================] - 1s 22us/step - loss: 0.3883 - acc: 0.8387 - val_loss: 0.3453 - val_acc: 0.8500\n",
      "Epoch 6/20\n",
      "49000/49000 [==============================] - 1s 23us/step - loss: 0.3876 - acc: 0.8372 - val_loss: 0.3438 - val_acc: 0.8540\n",
      "Epoch 7/20\n",
      "49000/49000 [==============================] - 1s 23us/step - loss: 0.3861 - acc: 0.8385 - val_loss: 0.3438 - val_acc: 0.8590\n",
      "Epoch 8/20\n",
      "49000/49000 [==============================] - 2s 31us/step - loss: 0.3857 - acc: 0.8384 - val_loss: 0.3442 - val_acc: 0.8520\n",
      "Epoch 9/20\n",
      "49000/49000 [==============================] - 1s 23us/step - loss: 0.3850 - acc: 0.8392 - val_loss: 0.3430 - val_acc: 0.8560\n",
      "Epoch 10/20\n",
      "49000/49000 [==============================] - 1s 23us/step - loss: 0.3836 - acc: 0.8389 - val_loss: 0.3446 - val_acc: 0.8570\n",
      "Epoch 11/20\n",
      "49000/49000 [==============================] - 1s 23us/step - loss: 0.3832 - acc: 0.8389 - val_loss: 0.3449 - val_acc: 0.8540\n",
      "Epoch 12/20\n",
      "49000/49000 [==============================] - 1s 24us/step - loss: 0.3823 - acc: 0.8394 - val_loss: 0.3459 - val_acc: 0.8510\n",
      "Epoch 13/20\n",
      "49000/49000 [==============================] - 1s 22us/step - loss: 0.3827 - acc: 0.8392 - val_loss: 0.3464 - val_acc: 0.8520\n",
      "Epoch 14/20\n",
      "49000/49000 [==============================] - 1s 23us/step - loss: 0.3820 - acc: 0.8382 - val_loss: 0.3448 - val_acc: 0.8580\n",
      "Epoch 15/20\n",
      "49000/49000 [==============================] - 1s 23us/step - loss: 0.3826 - acc: 0.8390 - val_loss: 0.3443 - val_acc: 0.8570\n",
      "Epoch 16/20\n",
      "49000/49000 [==============================] - 1s 24us/step - loss: 0.3825 - acc: 0.8398 - val_loss: 0.3443 - val_acc: 0.8580\n",
      "Epoch 17/20\n",
      "49000/49000 [==============================] - 1s 28us/step - loss: 0.3810 - acc: 0.8397 - val_loss: 0.3451 - val_acc: 0.8540\n",
      "Epoch 18/20\n",
      "49000/49000 [==============================] - 1s 24us/step - loss: 0.3825 - acc: 0.8410 - val_loss: 0.3435 - val_acc: 0.8570\n",
      "Epoch 19/20\n",
      "49000/49000 [==============================] - 1s 27us/step - loss: 0.3818 - acc: 0.8414 - val_loss: 0.3443 - val_acc: 0.8530\n",
      "Epoch 20/20\n",
      "49000/49000 [==============================] - 1s 24us/step - loss: 0.3802 - acc: 0.8407 - val_loss: 0.3447 - val_acc: 0.8540\n"
     ]
    },
    {
     "data": {
      "text/plain": [
       "<keras.callbacks.History at 0x1188c03c8>"
      ]
     },
     "execution_count": 42,
     "metadata": {},
     "output_type": "execute_result"
    }
   ],
   "source": [
    "print(\"Training ...\")\n",
    "model.fit(x_train, y_train, batch_size=batch_size, epochs=nb_epochs, validation_data=(x_test, y_test))"
   ]
  },
  {
   "cell_type": "code",
   "execution_count": 107,
   "metadata": {},
   "outputs": [],
   "source": [
    "# model.save(\"emotion.h5\")"
   ]
  },
  {
   "cell_type": "markdown",
   "metadata": {},
   "source": [
    "# Training with DecisionTree"
   ]
  },
  {
   "cell_type": "code",
   "execution_count": 49,
   "metadata": {},
   "outputs": [
    {
     "name": "stderr",
     "output_type": "stream",
     "text": [
      "/Users/phamhoanganh/virtualenv/python3_custom/lib/python3.5/importlib/_bootstrap.py:222: RuntimeWarning: numpy.dtype size changed, may indicate binary incompatibility. Expected 96, got 88\n",
      "  return f(*args, **kwds)\n",
      "/Users/phamhoanganh/virtualenv/python3_custom/lib/python3.5/site-packages/sklearn/ensemble/weight_boosting.py:29: DeprecationWarning: numpy.core.umath_tests is an internal NumPy module and should not be imported. It will be removed in a future NumPy release.\n",
      "  from numpy.core.umath_tests import inner1d\n"
     ]
    },
    {
     "name": "stdout",
     "output_type": "stream",
     "text": [
      "Training...\n",
      "Training done! Testing....\n",
      "0.869\n"
     ]
    }
   ],
   "source": [
    "from sklearn.ensemble import ExtraTreesClassifier\n",
    "from sklearn import metrics\n",
    "\n",
    "efc = ExtraTreesClassifier(n_estimators=512)\n",
    "print(\"Training...\")\n",
    "efc.fit(x_train, y_train)\n",
    "print(\"Training done! Testing....\")\n",
    "y_pred = efc.predict(x_test)\n",
    "score_test = metrics.accuracy_score(y_test, y_pred)\n",
    "print(score_test)"
   ]
  },
  {
   "cell_type": "code",
   "execution_count": 96,
   "metadata": {},
   "outputs": [],
   "source": [
    "from pyvi import ViTokenizer\n",
    "text = \"sản phẩm kém\"\n",
    "token = ViTokenizer.tokenize(text.lower())"
   ]
  },
  {
   "cell_type": "code",
   "execution_count": 97,
   "metadata": {},
   "outputs": [
    {
     "data": {
      "text/plain": [
       "array([[1., 0.]])"
      ]
     },
     "execution_count": 97,
     "metadata": {},
     "output_type": "execute_result"
    }
   ],
   "source": [
    "efc.predict(vectorizer.transform([token]))"
   ]
  },
  {
   "cell_type": "code",
   "execution_count": 95,
   "metadata": {},
   "outputs": [],
   "source": [
    "with open('efc.pkl', 'wb') as f:\n",
    "    pickle.dump(efc, f)"
   ]
  },
  {
   "cell_type": "code",
   "execution_count": null,
   "metadata": {},
   "outputs": [],
   "source": []
  }
 ],
 "metadata": {
  "kernelspec": {
   "display_name": "python3_custom",
   "language": "python",
   "name": "python3_custom"
  },
  "language_info": {
   "codemirror_mode": {
    "name": "ipython",
    "version": 3
   },
   "file_extension": ".py",
   "mimetype": "text/x-python",
   "name": "python",
   "nbconvert_exporter": "python",
   "pygments_lexer": "ipython3",
   "version": "3.5.2"
  }
 },
 "nbformat": 4,
 "nbformat_minor": 2
}
