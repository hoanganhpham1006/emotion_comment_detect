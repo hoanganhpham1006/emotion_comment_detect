{
 "cells": [
  {
   "cell_type": "code",
   "execution_count": 1,
   "metadata": {},
   "outputs": [],
   "source": [
    "import os\n",
    "import glob"
   ]
  },
  {
   "cell_type": "code",
   "execution_count": 34,
   "metadata": {},
   "outputs": [
    {
     "name": "stdout",
     "output_type": "stream",
     "text": [
      "data_test\n",
      "data_train\n",
      "test\n",
      "neg\n",
      "pos\n",
      "test\n",
      "train\n",
      "neg\n",
      "pos\n",
      "neg\n",
      "pos\n"
     ]
    }
   ],
   "source": [
    "for x, y, z in os.walk('./ntc-scv/data'):\n",
    "    for i in y:\n",
    "        print(i)"
   ]
  },
  {
   "cell_type": "code",
   "execution_count": 51,
   "metadata": {},
   "outputs": [],
   "source": [
    "type_comment = 0\n",
    "labels = []\n",
    "comments = []\n",
    "for path, dirs, files in os.walk('./ntc-scv/data'):\n",
    "    for d in dirs:\n",
    "        if d == 'neg':\n",
    "            type_comment = 0\n",
    "        else:\n",
    "            type_comment = 1\n",
    "        for f in glob.iglob(os.path.join(path, d, '*.txt')):\n",
    "            labels.append(type_comment)\n",
    "            with open(f, 'r') as fr:\n",
    "                comments.append(fr.read().lower())"
   ]
  },
  {
   "cell_type": "code",
   "execution_count": 52,
   "metadata": {},
   "outputs": [],
   "source": [
    "import pickle\n",
    "\n",
    "with open('comments.pkl', 'wb') as f:\n",
    "    pickle.dump(comments, f)"
   ]
  },
  {
   "cell_type": "code",
   "execution_count": 53,
   "metadata": {},
   "outputs": [],
   "source": [
    "with open('labels.pkl', 'wb') as f:\n",
    "    pickle.dump(labels, f)"
   ]
  },
  {
   "cell_type": "code",
   "execution_count": 55,
   "metadata": {},
   "outputs": [
    {
     "data": {
      "text/plain": [
       "(50000, 50000)"
      ]
     },
     "execution_count": 55,
     "metadata": {},
     "output_type": "execute_result"
    }
   ],
   "source": [
    "len(comments), len(labels)"
   ]
  },
  {
   "cell_type": "code",
   "execution_count": null,
   "metadata": {},
   "outputs": [],
   "source": []
  }
 ],
 "metadata": {
  "kernelspec": {
   "display_name": "python3_custom",
   "language": "python",
   "name": "python3_custom"
  },
  "language_info": {
   "codemirror_mode": {
    "name": "ipython",
    "version": 3
   },
   "file_extension": ".py",
   "mimetype": "text/x-python",
   "name": "python",
   "nbconvert_exporter": "python",
   "pygments_lexer": "ipython3",
   "version": "3.5.2"
  }
 },
 "nbformat": 4,
 "nbformat_minor": 2
}
